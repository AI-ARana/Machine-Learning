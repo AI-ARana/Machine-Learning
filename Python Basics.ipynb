{
 "cells": [
  {
   "cell_type": "markdown",
   "id": "174e8fd9",
   "metadata": {},
   "source": [
    "# Control Statements\n"
   ]
  },
  {
   "cell_type": "markdown",
   "id": "f0ca6a6d",
   "metadata": {},
   "source": [
    "# Conditional Statements (if, elif, else):"
   ]
  },
  {
   "cell_type": "code",
   "execution_count": 1,
   "id": "3fa0b133",
   "metadata": {},
   "outputs": [
    {
     "name": "stdout",
     "output_type": "stream",
     "text": [
      "x is positive\n"
     ]
    }
   ],
   "source": [
    "x = 10\n",
    "if x > 0:\n",
    "    print(\"x is positive\")\n",
    "elif x == 0:\n",
    "    print(\"x is zero\")\n",
    "else:\n",
    "    print(\"x is negative\")\n"
   ]
  },
  {
   "cell_type": "markdown",
   "id": "80ff6947",
   "metadata": {},
   "source": [
    "# Looping Statements (for, while):"
   ]
  },
  {
   "cell_type": "code",
   "execution_count": 4,
   "id": "e6b48bca",
   "metadata": {},
   "outputs": [
    {
     "name": "stdout",
     "output_type": "stream",
     "text": [
      "apple\n",
      "banana\n",
      "cherry\n"
     ]
    }
   ],
   "source": [
    "# Using 'For' Loop\n",
    "fruits = [\"apple\", \"banana\", \"cherry\"]\n",
    "for fruit in fruits:\n",
    "    print(fruit)\n"
   ]
  },
  {
   "cell_type": "code",
   "execution_count": 5,
   "id": "0dbff7a5",
   "metadata": {},
   "outputs": [
    {
     "name": "stdout",
     "output_type": "stream",
     "text": [
      "1\n",
      "2\n",
      "3\n",
      "4\n",
      "5\n"
     ]
    }
   ],
   "source": [
    "# Using 'While' Loop\n",
    "i = 1\n",
    "while i <= 5:\n",
    "    print(i)\n",
    "    i += 1"
   ]
  },
  {
   "cell_type": "markdown",
   "id": "146d8b80",
   "metadata": {},
   "source": [
    "# Control Transfer Statements:"
   ]
  },
  {
   "cell_type": "code",
   "execution_count": 6,
   "id": "63922db1",
   "metadata": {},
   "outputs": [
    {
     "name": "stdout",
     "output_type": "stream",
     "text": [
      "0\n",
      "1\n",
      "2\n",
      "4\n",
      "5\n",
      "6\n"
     ]
    }
   ],
   "source": [
    "for i in range(10):\n",
    "    if i == 3:\n",
    "        continue  # Skips printing 3\n",
    "    elif i == 7:\n",
    "        break  # Terminates the loop when i is 7\n",
    "    else:\n",
    "        pass  # Placeholder\n",
    "    print(i)"
   ]
  },
  {
   "cell_type": "markdown",
   "id": "93b50ee9",
   "metadata": {},
   "source": [
    "# Operators"
   ]
  },
  {
   "cell_type": "code",
   "execution_count": 3,
   "id": "8fe66415",
   "metadata": {},
   "outputs": [
    {
     "name": "stdout",
     "output_type": "stream",
     "text": [
      "16\n",
      "6\n",
      "55\n",
      "2.2\n",
      "1\n",
      "161051\n",
      "2\n",
      "1\n"
     ]
    }
   ],
   "source": [
    "# Arthmetic Operators:\n",
    "a = 11\n",
    "b = 5\n",
    "print(a + b)  # Addition\n",
    "print(a - b)  # Subtraction\n",
    "print(a * b)  # Multiplication\n",
    "print(a / b)  # Division\n",
    "print(a % b)  # Modulus (remainder)\n",
    "print(a ** b) # Exponentiation\n",
    "print(a // b) # Floor division (quotient without remainder)"
   ]
  },
  {
   "cell_type": "code",
   "execution_count": 8,
   "id": "47ff8160",
   "metadata": {},
   "outputs": [],
   "source": [
    "# Assignment Operators:\n",
    "x = 5     # Assigns the value 5 to variable x\n",
    "x += 2    # Adds 2 to the current value of x (equivalent to x = x + 2)\n",
    "x -= 3    # Subtracts 3 from the current value of x (equivalent to x = x - 3)\n",
    "x *= 4    # Multiplies the current value of x by 4 (equivalent to x = x * 4)\n",
    "x /= 2    # Divides the current value of x by 2 (equivalent to x = x / 2)"
   ]
  },
  {
   "cell_type": "code",
   "execution_count": 9,
   "id": "4ddc18c7",
   "metadata": {},
   "outputs": [
    {
     "name": "stdout",
     "output_type": "stream",
     "text": [
      "8.0\n"
     ]
    }
   ],
   "source": [
    "print(x)"
   ]
  },
  {
   "cell_type": "code",
   "execution_count": 10,
   "id": "7f1e54ae",
   "metadata": {},
   "outputs": [
    {
     "name": "stdout",
     "output_type": "stream",
     "text": [
      "False\n",
      "True\n",
      "True\n",
      "False\n",
      "True\n",
      "False\n"
     ]
    }
   ],
   "source": [
    "# Comparison Operators\n",
    "a = 10\n",
    "b = 5\n",
    "print(a == b)   # Equal to\n",
    "print(a != b)   # Not equal to\n",
    "print(a > b)    # Greater than\n",
    "print(a < b)    # Less than\n",
    "print(a >= b)   # Greater than or equal to\n",
    "print(a <= b)   # Less than or equal to"
   ]
  },
  {
   "cell_type": "code",
   "execution_count": 11,
   "id": "88f767a1",
   "metadata": {},
   "outputs": [
    {
     "name": "stdout",
     "output_type": "stream",
     "text": [
      "False\n",
      "True\n",
      "False\n"
     ]
    }
   ],
   "source": [
    "# Logical Operators\n",
    "x = True\n",
    "y = False\n",
    "print(x and y)  # Logical AND\n",
    "print(x or y)   # Logical OR\n",
    "print(not x)    # Logical NOT"
   ]
  },
  {
   "cell_type": "code",
   "execution_count": 12,
   "id": "7432dce1",
   "metadata": {},
   "outputs": [
    {
     "name": "stdout",
     "output_type": "stream",
     "text": [
      "1\n",
      "7\n",
      "6\n",
      "-6\n",
      "10\n",
      "2\n"
     ]
    }
   ],
   "source": [
    "# Bitwise Operators\n",
    "a = 5   # 101 in binary\n",
    "b = 3   # 011 in binary\n",
    "print(a & b)   # Bitwise AND (001)\n",
    "print(a | b)   # Bitwise OR (111)\n",
    "print(a ^ b)   # Bitwise XOR (110)\n",
    "print(~a)      # Bitwise NOT (complement)\n",
    "print(a << 1)  # Bitwise left shift (1010)\n",
    "print(a >> 1)  # Bitwise right shift (10)"
   ]
  },
  {
   "cell_type": "code",
   "execution_count": 13,
   "id": "b5fc758c",
   "metadata": {},
   "outputs": [
    {
     "name": "stdout",
     "output_type": "stream",
     "text": [
      "True\n",
      "True\n"
     ]
    }
   ],
   "source": [
    "# Membership Operators\n",
    "fruits = [\"apple\", \"banana\", \"cherry\"]\n",
    "print(\"banana\" in fruits)      # True\n",
    "print(\"orange\" not in fruits)  # True"
   ]
  },
  {
   "cell_type": "code",
   "execution_count": null,
   "id": "f623066a",
   "metadata": {},
   "outputs": [],
   "source": []
  }
 ],
 "metadata": {
  "kernelspec": {
   "display_name": "Python 3 (ipykernel)",
   "language": "python",
   "name": "python3"
  },
  "language_info": {
   "codemirror_mode": {
    "name": "ipython",
    "version": 3
   },
   "file_extension": ".py",
   "mimetype": "text/x-python",
   "name": "python",
   "nbconvert_exporter": "python",
   "pygments_lexer": "ipython3",
   "version": "3.9.13"
  }
 },
 "nbformat": 4,
 "nbformat_minor": 5
}
