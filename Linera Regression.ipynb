{
 "cells": [
  {
   "cell_type": "markdown",
   "id": "15057553",
   "metadata": {},
   "source": [
    "# Linear Regression\n"
   ]
  },
  {
   "cell_type": "markdown",
   "id": "de40d6ee",
   "metadata": {},
   "source": [
    "Linear regression is a fundamental statistical technique used to model the relationship between a dependent variable and one or more independent variables. It assumes that there is a linear relationship between the independent variable(s) and the dependent variable. The goal of linear regression is to find the best-fitting straight line that describes the relationship between the variables."
   ]
  },
  {
   "cell_type": "code",
   "execution_count": 1,
   "id": "ae84e864",
   "metadata": {},
   "outputs": [],
   "source": [
    "import numpy as np\n",
    "from sklearn.linear_model import LinearRegression"
   ]
  },
  {
   "cell_type": "code",
   "execution_count": 2,
   "id": "d302e321",
   "metadata": {},
   "outputs": [],
   "source": [
    "# Sample data\n",
    "X = np.array([[1], [2], [3], [4], [5]])  # Independent variable\n",
    "y = np.array([2, 3.5, 2.8, 4.6, 5.2])    # Dependent variable"
   ]
  },
  {
   "cell_type": "code",
   "execution_count": 3,
   "id": "469666e9",
   "metadata": {},
   "outputs": [
    {
     "data": {
      "text/plain": [
       "LinearRegression()"
      ]
     },
     "execution_count": 3,
     "metadata": {},
     "output_type": "execute_result"
    }
   ],
   "source": [
    "# Create and fit the linear regression model\n",
    "model = LinearRegression()\n",
    "model.fit(X, y)"
   ]
  },
  {
   "cell_type": "code",
   "execution_count": 6,
   "id": "e8f917ce",
   "metadata": {},
   "outputs": [
    {
     "name": "stdout",
     "output_type": "stream",
     "text": [
      "Intercept: 1.3699999999999992\n",
      "Slope: 0.7500000000000002\n"
     ]
    }
   ],
   "source": [
    "# Print the coefficients\n",
    "print(\"Intercept:\", model.intercept_)\n",
    "print(\"Slope:\", model.coef_[0])"
   ]
  },
  {
   "cell_type": "code",
   "execution_count": 7,
   "id": "f97809f4",
   "metadata": {},
   "outputs": [
    {
     "name": "stdout",
     "output_type": "stream",
     "text": [
      "Predicted values: [5.87 6.62 7.37]\n"
     ]
    }
   ],
   "source": [
    "# Predict new values\n",
    "new_X = np.array([[6], [7], [8]])\n",
    "predicted_y = model.predict(new_X)\n",
    "print(\"Predicted values:\", predicted_y)"
   ]
  },
  {
   "cell_type": "code",
   "execution_count": null,
   "id": "c501fd1c",
   "metadata": {},
   "outputs": [],
   "source": []
  }
 ],
 "metadata": {
  "kernelspec": {
   "display_name": "Python 3 (ipykernel)",
   "language": "python",
   "name": "python3"
  },
  "language_info": {
   "codemirror_mode": {
    "name": "ipython",
    "version": 3
   },
   "file_extension": ".py",
   "mimetype": "text/x-python",
   "name": "python",
   "nbconvert_exporter": "python",
   "pygments_lexer": "ipython3",
   "version": "3.9.13"
  }
 },
 "nbformat": 4,
 "nbformat_minor": 5
}
